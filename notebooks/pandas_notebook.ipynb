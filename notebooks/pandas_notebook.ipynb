{
 "cells": [
  {
   "cell_type": "markdown",
   "id": "dee4ab01",
   "metadata": {},
   "source": [
    "## Pandas\n",
    "https://www.geeksforgeeks.org/pandas/pandas-tutorial/\n",
    "https://www.w3schools.com/python/pandas/default.asp\n",
    "\n",
    "Pandas is a Python library used for working with data sets.\n",
    "\n",
    "It has functions for analyzing, cleaning, exploring, and manipulating data.\n",
    "\n",
    "Se necesita un DataFrame: *DataFrames: It is a two-dimensional data structure constructed with rows and columns, which is more similar to Excel spreadsheet.*"
   ]
  },
  {
   "cell_type": "markdown",
   "id": "69497ecd",
   "metadata": {},
   "source": [
    "### Series"
   ]
  },
  {
   "cell_type": "code",
   "execution_count": 4,
   "id": "2b0ff033",
   "metadata": {},
   "outputs": [
    {
     "ename": "ModuleNotFoundError",
     "evalue": "No module named 'pandas'",
     "output_type": "error",
     "traceback": [
      "\u001b[31m---------------------------------------------------------------------------\u001b[39m",
      "\u001b[31mModuleNotFoundError\u001b[39m                       Traceback (most recent call last)",
      "\u001b[36mCell\u001b[39m\u001b[36m \u001b[39m\u001b[32mIn[4]\u001b[39m\u001b[32m, line 1\u001b[39m\n\u001b[32m----> \u001b[39m\u001b[32m1\u001b[39m \u001b[38;5;28;01mimport\u001b[39;00m\u001b[38;5;250m \u001b[39m\u001b[34;01mpandas\u001b[39;00m\u001b[38;5;250m \u001b[39m\u001b[38;5;28;01mas\u001b[39;00m\u001b[38;5;250m \u001b[39m\u001b[34;01mpd\u001b[39;00m\n\u001b[32m      3\u001b[39m serie = [\u001b[32m1\u001b[39m, \u001b[32m7\u001b[39m, \u001b[32m2\u001b[39m]\n\u001b[32m      4\u001b[39m \u001b[38;5;66;03m## adding label (index) to serie\u001b[39;00m\n",
      "\u001b[31mModuleNotFoundError\u001b[39m: No module named 'pandas'"
     ]
    }
   ],
   "source": [
    "import pandas as pd\n",
    "\n",
    "serie = [1, 7, 2]\n",
    "## adding label (index) to serie\n",
    "serie_labeled = pd.Series(serie, index = [\"x\", \"y\", \"z\"])\n",
    "print(serie_labeled)\n",
    "## Access by label\n",
    "print(serie_labeled.x)\n",
    "\n",
    "\n",
    "\n",
    "# Key / value (python dictionary) as series --> Keys of dictionary become labels\n",
    "calories = {\"day1\": 420, \"day2\": 380, \"day3\": 390}\n",
    "calories_serie = pd.Series(calories)\n",
    "print(calories_serie)\n",
    "\n"
   ]
  },
  {
   "cell_type": "markdown",
   "id": "5e994c4b",
   "metadata": {},
   "source": [
    "### Data Frames"
   ]
  },
  {
   "cell_type": "code",
   "execution_count": null,
   "id": "d852c713",
   "metadata": {},
   "outputs": [],
   "source": [
    "cars_dataset = {\n",
    "  'cars': [\"BMW\", \"Volvo\", \"Ford\"],\n",
    "  'passings': [3, 7, 2]\n",
    "}\n",
    "\n",
    "cars_dataframe = pd.DataFrame(cars_dataset)\n",
    "\n",
    "print(cars_dataframe)\n",
    "\n",
    "\n",
    "calories_dataset = {\n",
    "  \"day\": [\"Mon\", \"Tue\", \"Wed\"],\n",
    "  \"calories\": [420, 380, 390],\n",
    "  \"duration\": [50, 40, 45]\n",
    "}\n",
    "calories_dataframe = pd.DataFrame(calories_dataset)\n",
    "\n",
    "print(calories_dataframe)\n",
    "\n",
    "##Access to row\n",
    "print(f\"DataFrame row 1\")\n",
    "print(f\"{calories_dataframe.loc[1]}\")\n",
    "\n",
    "##Access to range of rows\n",
    "print(f\"DataFrame row 0 to 1\")\n",
    "print(f\"{calories_dataframe.loc[0:1]}\")\n",
    "\n",
    "## Add index to dataframe\n",
    "calories_dataframe = pd.DataFrame(calories_dataset, index = [\"day1\", \"day2\", \"day3\"])\n",
    "print(f\"{calories_dataframe}\")\n",
    "\n",
    "#refer to the named index:\n",
    "print(calories_dataframe.loc[\"day2\"])\n"
   ]
  },
  {
   "cell_type": "markdown",
   "id": "d6828063",
   "metadata": {},
   "source": [
    "#### CSV To Pandas"
   ]
  },
  {
   "cell_type": "code",
   "execution_count": null,
   "id": "6a53767a",
   "metadata": {},
   "outputs": [],
   "source": [
    "ucl_dataframe = pd.read_csv('la_liga_standings.csv')\n",
    "print(ucl_dataframe.to_string())\n",
    "\n",
    "# TOP 5\n",
    "print(ucl_dataframe.head())\n",
    "\n",
    "# TOP 2\n",
    "print(ucl_dataframe.head(2))\n",
    "\n",
    "# Last 3\n",
    "print(ucl_dataframe.tail(3))\n",
    "\n",
    "# info\n",
    "print(ucl_dataframe.info()) "
   ]
  },
  {
   "cell_type": "markdown",
   "id": "ff95970b",
   "metadata": {},
   "source": [
    "#### JSON To DataFrame"
   ]
  },
  {
   "cell_type": "code",
   "execution_count": null,
   "id": "138ac5f2",
   "metadata": {},
   "outputs": [],
   "source": [
    "ucl_dataframe = pd.read_json('la_liga_2324.json')\n",
    "print(ucl_dataframe.to_string())"
   ]
  },
  {
   "cell_type": "markdown",
   "id": "146b3834",
   "metadata": {},
   "source": [
    "### Data processing with Data Frames"
   ]
  },
  {
   "cell_type": "code",
   "execution_count": null,
   "id": "211305ab",
   "metadata": {},
   "outputs": [],
   "source": [
    "from numpy import fix\n",
    "from pandas import DataFrame\n",
    "\n",
    "\n",
    "calories_dataframe_original = pd.read_csv('calories_dataset.csv')\n",
    "print(calories_dataframe_original.info())\n",
    "# print(calories_dataframe.to_string())\n",
    "# print(f\"has duplicate {calories_dataframe_original.duplicated()}\")\n",
    "\n",
    "##Delete duplicates\n",
    "calories_dataframe = calories_dataframe_original.drop_duplicates()\n",
    "# print(calories_dataframe.to_string())\n",
    "## Delete NA\n",
    "# calories_dataframe = calories_dataframe.dropna()\n",
    "## Replaces NA by a value --> Not usefull in our case\n",
    "# calories_dataframe = calories_dataframe.fillna(0)\n",
    "## Replaces NA by a value --> only for a column or a set of columns\n",
    "calories_dataframe = calories_dataframe.fillna({\"Calories\": 0})\n",
    "# Drop de rest of NA rows\n",
    "calories_dataframe = calories_dataframe.dropna()\n",
    "\n",
    "def print_dataframe_stats(dataframe, field):\n",
    "    print(\"*************Stats*************\")\n",
    "    print(f\"Stats for {field}\")\n",
    "    stats = {\n",
    "        \"mean\": dataframe[field].mean(),\n",
    "        \"median\": dataframe[field].median(),\n",
    "        \"max\": dataframe[field].max(),\n",
    "        \"min\": dataframe[field].min(),\n",
    "        \"mode\": dataframe[field].mode()\n",
    "    }\n",
    "    stats_dataframe = pd.DataFrame(stats)\n",
    "    print(stats_dataframe)\n",
    "    print(\"*************END: Stats*************\")\n",
    "\n",
    "\n",
    "print_dataframe_stats(calories_dataframe, \"Calories\")\n",
    "print_dataframe_stats(calories_dataframe, \"Pulse\")\n",
    "print_dataframe_stats(calories_dataframe, \"Maxpulse\")\n",
    "\n",
    "\n",
    "# print(calories_dataframe_original.loc[10:14])\n",
    "# print(calories_dataframe.loc[10:14])\n",
    "\n",
    "\n",
    "# fix wrong column formats\n",
    "calories_dataframe.Date = pd.to_datetime(calories_dataframe['Date'], format='mixed')\n",
    "# print(calories_dataframe.to_string())\n",
    "\n",
    "#Considering Row 7 / Duration is too high, we assume data is wrong. \n",
    "# One way to fix it is by replicing the value\n",
    "# Another way is to removing the value\n",
    "## Direct replacement if we now which is the wrong row\n",
    "# calories_dataframe.loc[7, 'Duration'] = 45\n",
    "\n",
    "# calories_dataframe.index contains the index of the row, so it is a numeric value\n",
    "# Iterate over rows to fix by replacement the ones which are wrong\n",
    "for row_index in calories_dataframe.index:\n",
    "    value: int = calories_dataframe.loc[row_index, \"Duration\"]\n",
    "    if  value > 300:\n",
    "        ##Value to high --> setting the limit to 300 minutes\n",
    "        calories_dataframe.loc[row_index, \"Duration\"] = 300\n",
    "    if  value < 0:\n",
    "        ##This value is negative and it is for Duration --> remove it. No workouts of 0 minutes or less\n",
    "        calories_dataframe.drop(index=row_index, inplace=True)\n",
    "\n",
    "print(calories_dataframe.to_string())"
   ]
  },
  {
   "cell_type": "markdown",
   "id": "0ccd9465",
   "metadata": {},
   "source": [
    "### Correlation\n",
    "Calcula las relaciones entre las columnas del data set --> busca relaciones es inteligente\n",
    "\n",
    "The number varies from -1 to 1.\n",
    "\n",
    "1 means that there is a 1 to 1 relationship (a perfect correlation), and for this data set, each time a value went up in the first column, the other one went up as well.\n",
    "\n",
    "0.9 is also a good relationship, and if you increase one value, the other will probably increase as well.\n",
    "\n",
    "-0.9 would be just as good relationship as 0.9, but if you increase one value, the other will probably go down.\n",
    "\n",
    "0.2 means NOT a good relationship, meaning that if one value goes up does not mean that the other will.\n",
    "\n",
    "**Valores positivos** *--> si se incrementa una de las columnas, la otra incrementara tambien*\n",
    "**Valores Negativos** *--> si se incrementa una de las columnas, la otra DECREMENTARÁ*\n",
    "**Se considera buena correlacion 0.6 o -0.6**\n",
    "\n"
   ]
  },
  {
   "cell_type": "code",
   "execution_count": null,
   "id": "5179ed30",
   "metadata": {},
   "outputs": [],
   "source": [
    "\n",
    "\n",
    "\n",
    "from pprint import pprint\n",
    "\n",
    "\n",
    "def obtain_highest_correlancy(dataframe, limit:float):\n",
    "    correlation_df = dataframe.corr()\n",
    "    high_correlancy = {}\n",
    "    for index in correlation_df.index:\n",
    "        row = correlation_df.loc[index]\n",
    "        for row_index in row.index:\n",
    "            val = float(row[row_index])\n",
    "            if val == 1.0:\n",
    "                x=1\n",
    "            else:\n",
    "                if val > limit:\n",
    "                    high_correlancy.setdefault(index, {'column': index, 'row': row_index, 'corr': val})\n",
    "                if val < -limit:\n",
    "                    high_correlancy.setdefault(index, {'column': index, 'row': row_index, 'corr': val})\n",
    "    return high_correlancy\n",
    "\n",
    "original_large_calories_dataframe = pd.read_csv('calories_large_dataset.csv')\n",
    "\n",
    "working_large_calories_dataframe = original_large_calories_dataframe.drop_duplicates()\n",
    "working_large_calories_dataframe.fillna({\"Calories\": 0})\n",
    "\n",
    "print_dataframe_stats(calories_dataframe, \"Calories\")\n",
    "print_dataframe_stats(calories_dataframe, \"Pulse\")\n",
    "print_dataframe_stats(calories_dataframe, \"Maxpulse\")\n",
    "print_dataframe_stats(calories_dataframe, \"Duration\")\n",
    "\n",
    "# Data is clean, it doesn't contain any deviated value --> Calculate correlation bigger than 0.7\n",
    "print(\"Correlation\")\n",
    "pprint(obtain_highest_correlancy(dataframe=working_large_calories_dataframe, limit=0.7))\n"
   ]
  },
  {
   "cell_type": "markdown",
   "id": "50ac97c9",
   "metadata": {},
   "source": [
    "## Pandas PLOT\n",
    "\n",
    "Para printar graficos\n",
    "\n",
    "import pandas as pd\n",
    "import matplotlib.pyplot as plt"
   ]
  },
  {
   "cell_type": "code",
   "execution_count": null,
   "id": "933aec68",
   "metadata": {},
   "outputs": [],
   "source": [
    "import pandas as pd\n",
    "import matplotlib.pyplot as plt"
   ]
  },
  {
   "cell_type": "code",
   "execution_count": null,
   "id": "c7a2f4b0",
   "metadata": {},
   "outputs": [],
   "source": [
    "\n",
    "## por defecto\n",
    "working_large_calories_dataframe.plot()\n",
    "plt.show()"
   ]
  },
  {
   "cell_type": "code",
   "execution_count": null,
   "id": "849a0cb8",
   "metadata": {},
   "outputs": [],
   "source": [
    "kind=\"scatter\"\n",
    "# (function) kind: Literal['line', 'bar', 'barh', 'hist', 'box', 'kde', 'density', 'area', 'pie', 'scatter', 'hexbin']\n",
    "\n",
    "\n",
    "working_large_calories_dataframe.plot(kind=kind, x='Duration', y ='Calories')\n",
    "## Correlation es alta entre Duration y Calories, a mas duracion, mas calorias gastas\n",
    "print(\"More Duration of workout, more calories burned. High correlation\")\n",
    "plt.show()\n",
    "\n",
    "working_large_calories_dataframe.plot(kind=kind, x='Duration', y ='Pulse')\n",
    "print(\"Bad correlation. Both columns aren't related.\")\n",
    "print(\"Observations: The longest activity 300 minutes was light cardio: 110ppm\")\n",
    "print(\"Observations: Most of the workouts are 60 minutes long\")\n",
    "print(\"Observations: The hardest activity 160ppm minutes was shorter than 50 minutes. \")\n",
    "\n",
    "plt.show()"
   ]
  },
  {
   "cell_type": "code",
   "execution_count": null,
   "id": "d718f11d",
   "metadata": {},
   "outputs": [],
   "source": [
    "# Histogram\n",
    "\n",
    "print(\"Workouts more frecuents are 60 minutes long. And then, less than 60 50 minutes long\")\n",
    "working_large_calories_dataframe[\"Duration\"].plot(kind = 'hist')\n",
    "plt.show()\n",
    "\n",
    "print(\"Workouts more frecuents are low cardio. 110ppm or less\")\n",
    "working_large_calories_dataframe[\"Pulse\"].plot(kind = 'hist')\n",
    "plt.show()\n"
   ]
  },
  {
   "cell_type": "markdown",
   "id": "9d2603ff",
   "metadata": {},
   "source": [
    "### Procesando JSON nesteados\n",
    "\n",
    "Ejemplos de API UEFA --> UCL Teams 2025 from JSON"
   ]
  },
  {
   "cell_type": "code",
   "execution_count": null,
   "id": "2af00970",
   "metadata": {},
   "outputs": [],
   "source": [
    "import json\n",
    "import fnmatch\n",
    "\n",
    "import matplotlib.pyplot as plt\n",
    "import numpy as np\n",
    "\n",
    "with open('ucl_2025_teams.json', 'r') as file:\n",
    "    json_data = json.load(file)\n",
    "\n",
    "ucl_dataframe = pd.json_normalize(json_data)\n",
    "\n",
    "ucl_dataframe['associationId'] = pd.to_numeric(ucl_dataframe['associationId'])\n",
    "ucl_dataframe['id'] = pd.to_numeric(ucl_dataframe['id'])\n",
    "ucl_dataframe['organizationId'] = pd.to_numeric(ucl_dataframe['organizationId'])\n",
    "\n",
    "def remove_columns(starts_with_remove, ends_with_exception, dataframe, inplace):\n",
    "    columnsToDelete = []\n",
    "    for column in dataframe.columns:\n",
    "        if fnmatch.fnmatch(column, starts_with_remove) and not column.endswith(ends_with_exception):\n",
    "        # if column.startswith(starts_with_remove) and not column.endswith(ends_with_exception):\n",
    "            columnsToDelete.append(column)\n",
    "    dataframe.drop(columns=columnsToDelete, inplace=inplace)\n",
    "\n",
    "remove_columns(starts_with_remove=\"*translations\", ends_with_exception=\"EN\", dataframe=ucl_dataframe, inplace=True)\n",
    "\n",
    "\n",
    "frequencies = ucl_dataframe['translations.countryName.EN'].value_counts()\n",
    "frequencies.plot(kind='bar', figsize=(10, 6), color='red')\n",
    "\n",
    "# Agregar etiquetas y título\n",
    "plt.title('Teams by Country', fontsize=16)\n",
    "plt.xlabel('Country', fontsize=14)\n",
    "plt.ylabel('Number of teams', fontsize=14)\n",
    "plt.show()"
   ]
  },
  {
   "cell_type": "markdown",
   "id": "74324f2b",
   "metadata": {},
   "source": [
    "### UEFA UCL 2025 Standings from API"
   ]
  },
  {
   "cell_type": "code",
   "execution_count": null,
   "id": "0e066f55",
   "metadata": {},
   "outputs": [],
   "source": [
    "import requests\n",
    "import datetime\n",
    "url = \"https://standings.uefa.com/v1/standings?competitionId=1&seasonYear=2025\"\n",
    "\n",
    "\n",
    "headers = {\n",
    "    \"User-Agent\": \"Mozilla/5.0 (Windows NT 10.0; Win64; x64)\"\n",
    "}\n",
    "response = requests.get(url, headers=headers)\n",
    "data = {}\n",
    "\n",
    "if response.status_code == 200:\n",
    "    data = response.json()\n",
    "else:\n",
    "    print(f\"Error en la petición: {response.status_code}\")\n",
    "\n",
    "standings_dataframe = pd.json_normalize(data)\n",
    "\n",
    "remove_columns(starts_with_remove=\"*.translations.*\", ends_with_exception=\"EN\", dataframe=standings_dataframe, inplace=True)\n",
    "standings_dataframe.dropna(inplace=True)\n",
    "print(standings_dataframe.info())\n"
   ]
  }
 ],
 "metadata": {
  "kernelspec": {
   "display_name": "llm-venv",
   "language": "python",
   "name": "python3"
  },
  "language_info": {
   "codemirror_mode": {
    "name": "ipython",
    "version": 3
   },
   "file_extension": ".py",
   "mimetype": "text/x-python",
   "name": "python",
   "nbconvert_exporter": "python",
   "pygments_lexer": "ipython3",
   "version": "3.12.3"
  }
 },
 "nbformat": 4,
 "nbformat_minor": 5
}
